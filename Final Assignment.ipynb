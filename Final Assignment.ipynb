{
 "cells": [
  {
   "cell_type": "markdown",
   "id": "ec0c12bb-efe1-43ed-83e1-9b9235c15f2e",
   "metadata": {},
   "source": [
    "# My Jupyter Notebook on IBM Watson Studio"
   ]
  },
  {
   "cell_type": "markdown",
   "id": "bfce0752-103a-422c-b9b2-c6f785be4afe",
   "metadata": {},
   "source": [
    "**Gyosmen-Hashims Shittu** \n",
    "\n",
    " Data Scientist"
   ]
  },
  {
   "cell_type": "markdown",
   "id": "da3c6578-0b77-4b21-b43c-702715ecd561",
   "metadata": {},
   "source": [
    "*I am interested in Data Science because I love to discover new insights and trends from data.*"
   ]
  },
  {
   "cell_type": "markdown",
   "id": "0adbb852-7760-41d4-9b9b-c1370fd31371",
   "metadata": {},
   "source": [
    "### The code below requests for the user's first name and returns a greeting with the name provided"
   ]
  },
  {
   "cell_type": "code",
   "execution_count": 4,
   "id": "417b48ae-c592-465a-ba3a-ee24c4a2ad30",
   "metadata": {},
   "outputs": [
    {
     "name": "stdin",
     "output_type": "stream",
     "text": [
      "What's your first name?  Gyosmen-Hashims\n"
     ]
    },
    {
     "name": "stdout",
     "output_type": "stream",
     "text": [
      "Hello, Gyosmen-Hashims\n"
     ]
    }
   ],
   "source": [
    "name = input(\"What's your first name? \").strip()\n",
    "\n",
    "print(f\"Hello, {name}\")"
   ]
  },
  {
   "cell_type": "markdown",
   "id": "d4a065b2-69c0-44f8-b438-430a567941d8",
   "metadata": {},
   "source": [
    "### Data Science Languages\n",
    "\n",
    "The 3 most popular languages for data scientists are:\n",
    "\n",
    "1. Python\n",
    "2. R\n",
    "3. SQL\n",
    "\n",
    "However there are other languages which include:\n",
    "\n",
    "- Scala\n",
    "- Java\n",
    "- C++\n",
    "\n",
    "For anyone who is looking to start a career in Data science, I highly recommend that you take [IBM Data Science Professional Certificate](https://www.coursera.org/professional-certificates/ibm-data-science) on Coursera.\n",
    "\n",
    "One of the beauties of markdown is the ability to ~~strikethrough~~ any mistakes you make as you write your report. This will give you the opportunity to review it later."
   ]
  }
 ],
 "metadata": {
  "kernelspec": {
   "display_name": "Python 3 (ipykernel)",
   "language": "python",
   "name": "python3"
  },
  "language_info": {
   "codemirror_mode": {
    "name": "ipython",
    "version": 3
   },
   "file_extension": ".py",
   "mimetype": "text/x-python",
   "name": "python",
   "nbconvert_exporter": "python",
   "pygments_lexer": "ipython3",
   "version": "3.9.12"
  }
 },
 "nbformat": 4,
 "nbformat_minor": 5
}
